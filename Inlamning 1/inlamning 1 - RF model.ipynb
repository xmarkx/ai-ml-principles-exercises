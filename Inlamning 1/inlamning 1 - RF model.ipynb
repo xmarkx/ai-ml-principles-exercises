{
 "cells": [
  {
   "cell_type": "code",
   "execution_count": 1,
   "id": "eeb3ad58",
   "metadata": {},
   "outputs": [],
   "source": [
    "import deeplake\n",
    "from skimage.color import rgb2gray\n",
    "import numpy as np\n",
    "from PIL import Image\n",
    "from sklearn import svm\n",
    "from sklearn.model_selection import cross_val_score, cross_validate\n",
    "from sklearn.ensemble import RandomForestClassifier\n",
    "from sklearn.metrics import recall_score\n",
    "from sklearn import metrics\n",
    "import sklearn\n",
    "import time\n",
    "import sys\n",
    "from IPython.display import clear_output\n",
    "from tensorflow import keras\n",
    "from tensorflow.keras import layers\n",
    "import tensorflow as tf\n",
    "import wandb\n",
    "from wandb.keras import WandbCallback\n",
    "import matplotlib.pyplot as plt\n",
    "from datetime import datetime\n",
    "from collections import Counter\n",
    "from itertools import chain\n",
    "clear_output()"
   ]
  },
  {
   "cell_type": "markdown",
   "id": "3e3da8bb",
   "metadata": {},
   "source": [
    "# Dataset for RF"
   ]
  },
  {
   "cell_type": "code",
   "execution_count": 2,
   "id": "45767da0",
   "metadata": {
    "scrolled": true
   },
   "outputs": [
    {
     "name": "stdout",
     "output_type": "stream",
     "text": [
      "hub://luizapzbn/CODEBRIM_classification_dataset-val loaded successfully.\n",
      "This dataset can be visualized in Jupyter Notebook by ds.visualize() or at https://app.activeloop.ai/luizapzbn/CODEBRIM_classification_dataset-val\n",
      "hub://luizapzbn/CODEBRIM_classification_dataset-train loaded successfully.\n",
      "This dataset can be visualized in Jupyter Notebook by ds.visualize() or at https://app.activeloop.ai/luizapzbn/CODEBRIM_classification_dataset-train\n"
     ]
    }
   ],
   "source": [
    "val_ds = deeplake.load('hub://luizapzbn/CODEBRIM_classification_dataset-val')\n",
    "train_ds = deeplake.load('hub://luizapzbn/CODEBRIM_classification_dataset-train')"
   ]
  },
  {
   "cell_type": "markdown",
   "id": "d3d4db1f",
   "metadata": {},
   "source": [
    "# Loading in data"
   ]
  },
  {
   "cell_type": "code",
   "execution_count": 3,
   "id": "ab2bb3f0",
   "metadata": {},
   "outputs": [],
   "source": [
    "# train set\n",
    "X_train = train_ds.images.numpy()\n",
    "y_train = train_ds.labels.data()\n",
    "train_labels = list(chain.from_iterable(train_ds.labels.data()['text']))\n",
    "\n",
    "# validation set\n",
    "X_val = val_ds.images.numpy()\n",
    "y_val = val_ds.labels.data()\n",
    "val_labels = list(chain.from_iterable(val_ds.labels.data()['text']))\n",
    "\n",
    "# greying the pictures\n",
    "X_train=rgb2gray(X_train)\n",
    "# resampling the values from 0-255\n",
    "X_train = (X_train*255).astype('uint8')\n",
    "\n",
    "# greying the pictures\n",
    "X_val=rgb2gray(X_val)\n",
    "# resampling the values from 0-255\n",
    "X_val = (X_val*255).astype('uint8')"
   ]
  },
  {
   "cell_type": "markdown",
   "id": "d907e212",
   "metadata": {},
   "source": [
    "# Manipulating training picture format for training Random Forest model"
   ]
  },
  {
   "cell_type": "code",
   "execution_count": 4,
   "id": "31e62ac2",
   "metadata": {},
   "outputs": [],
   "source": [
    "# flattening the picture array\n",
    "X_train = X_train.reshape((len(X_train),-1))\n",
    "X_train.shape\n",
    "\n",
    "# labels turned into array\n",
    "y_train_text = np.asarray(y_train['text']).ravel()\n",
    "y_train_value = np.asarray(y_train['value']).ravel()"
   ]
  },
  {
   "cell_type": "markdown",
   "id": "18c11c0e",
   "metadata": {},
   "source": [
    "# Manipulating validation picture format for training Random Forest model"
   ]
  },
  {
   "cell_type": "code",
   "execution_count": 5,
   "id": "5ae3e1f5",
   "metadata": {},
   "outputs": [],
   "source": [
    "# flattening the picture array\n",
    "X_val = X_val.reshape((len(X_val),-1))\n",
    "\n",
    "# labels to array\n",
    "y_val_text = np.asarray(y_val['text']).ravel()\n",
    "y_val_value = np.asarray(y_val['value']).ravel()"
   ]
  },
  {
   "cell_type": "markdown",
   "id": "ddfc7ccc",
   "metadata": {},
   "source": [
    "# Random forest models - 6 classes"
   ]
  },
  {
   "cell_type": "code",
   "execution_count": 6,
   "id": "f96612a4",
   "metadata": {},
   "outputs": [],
   "source": [
    "n_est = 100\n",
    "max_d = None\n",
    "min_s_s = 2\n",
    "min_s_l = 1"
   ]
  },
  {
   "cell_type": "code",
   "execution_count": 7,
   "id": "71086709",
   "metadata": {},
   "outputs": [],
   "source": [
    "# Create an instance of the RandomForestClassifier\n",
    "clf = RandomForestClassifier(\n",
    "    n_estimators=n_est,\n",
    "    max_depth=max_d,\n",
    "    min_samples_split=min_s_s,\n",
    "    min_samples_leaf=min_s_l)"
   ]
  },
  {
   "cell_type": "code",
   "execution_count": null,
   "id": "e6f81fc5",
   "metadata": {
    "scrolled": false
   },
   "outputs": [
    {
     "name": "stderr",
     "output_type": "stream",
     "text": [
      "\u001b[34m\u001b[1mwandb\u001b[0m: Currently logged in as: \u001b[33mmark-eszaros\u001b[0m. Use \u001b[1m`wandb login --relogin`\u001b[0m to force relogin\n"
     ]
    },
    {
     "data": {
      "text/html": [
       "Tracking run with wandb version 0.13.6"
      ],
      "text/plain": [
       "<IPython.core.display.HTML object>"
      ]
     },
     "metadata": {},
     "output_type": "display_data"
    },
    {
     "data": {
      "text/html": [
       "Run data is saved locally in <code>D:\\Kurs 3 - AI-ML-principer för datadrivna organisationer\\Inlämning1\\wandb\\run-20221214_165423-77gdnkxo</code>"
      ],
      "text/plain": [
       "<IPython.core.display.HTML object>"
      ]
     },
     "metadata": {},
     "output_type": "display_data"
    },
    {
     "data": {
      "text/html": [
       "Syncing run <strong><a href=\"https://wandb.ai/mark-eszaros/inlamning1TEST/runs/77gdnkxo\" target=\"_blank\">preprocessing 2022-12-14 16:54:19</a></strong> to <a href=\"https://wandb.ai/mark-eszaros/inlamning1TEST\" target=\"_blank\">Weights & Biases</a> (<a href=\"https://wandb.me/run\" target=\"_blank\">docs</a>)<br/>"
      ],
      "text/plain": [
       "<IPython.core.display.HTML object>"
      ]
     },
     "metadata": {},
     "output_type": "display_data"
    }
   ],
   "source": [
    "date_and_time = datetime.now().strftime(\"%Y-%m-%d %H:%M:%S\")\n",
    "wandb.init(project=\"inlamning1V1\", name=f\"preprocessing {date_and_time}\", config = {\n",
    "    \"training_type\": 'Random Forest',\n",
    "    'n_estimators': n_est,\n",
    "    'max_depth': max_d,\n",
    "    'min_samples_split': min_s_s,\n",
    "    'min_samples_leaf': min_s_l,\n",
    "    'scoring': 'accuracy'\n",
    "})\n",
    "\n",
    "start = time.time()\n",
    "\n",
    "scores = cross_val_score(clf, X_train, y_train_value, cv=5, scoring='accuracy')\n",
    "\n",
    "# fit / predict\n",
    "clf.fit(X_train, y_train_value)\n",
    "\n",
    "y_pred = clf.predict(X_val)\n",
    "y_probas = clf.predict_proba(X_val)\n",
    "labels = ['Background', 'Crack', 'Spallation', 'Efflorescence', 'ExposedBars', 'CorrosionStain']\n",
    "\n",
    "# visualize model stats\n",
    "wandb.log({'roc': wandb.plots.ROC(y_val_value, y_probas, labels)})\n",
    "wandb.log({'pr': wandb.plots.precision_recall(y_val_value, y_probas, labels)})\n",
    "wandb.sklearn.plot_summary_metrics(clf, X_train, y_train_value, X_val, y_val_value)\n",
    "wandb.sklearn.plot_confusion_matrix(y_val_value, y_pred, labels)\n",
    "\n",
    "print(sklearn.metrics.classification_report(y_val_value, y_pred))\n",
    "print(time.time() - start, 'seconds')\n",
    "\n",
    "for score in scores:\n",
    "    wandb.log({'cross_val_score': score})\n",
    "    \n",
    "wandb.finish()"
   ]
  },
  {
   "cell_type": "markdown",
   "id": "8a74a9ec",
   "metadata": {},
   "source": [
    "# RF binary classification"
   ]
  },
  {
   "cell_type": "code",
   "execution_count": 6,
   "id": "3b9991ee",
   "metadata": {},
   "outputs": [
    {
     "name": "stdout",
     "output_type": "stream",
     "text": [
      "Binary values:  Counter({1: 4253, 0: 2228})\n",
      "Binary texts:  Counter({'Damaged': 4253, 'Not damaged': 2228})\n"
     ]
    }
   ],
   "source": [
    "y_train_binary_value = np.where(y_train['value']!=[0], [1], [0])\n",
    "print('Binary values: ', Counter(list(chain.from_iterable(y_train_binary_value))))\n",
    "\n",
    "y_train_binary_text = np.where(np.array(y_train['text'])!=['Background'], ['Damaged'], ['Not damaged'])\n",
    "print('Binary texts: ', Counter(list(chain.from_iterable(y_train_binary_text))))"
   ]
  },
  {
   "cell_type": "code",
   "execution_count": 7,
   "id": "12536353",
   "metadata": {},
   "outputs": [
    {
     "name": "stdout",
     "output_type": "stream",
     "text": [
      "Binary values:  Counter({1: 461, 0: 155})\n",
      "Binary texts:  Counter({'Damaged': 461, 'Not damaged': 155})\n"
     ]
    }
   ],
   "source": [
    "y_val_binary_value = np.where(y_val['value']!=[0], [1], [0])\n",
    "print('Binary values: ', Counter(list(chain.from_iterable(y_val_binary_value))))\n",
    "\n",
    "y_val_binary_text = np.where(np.array(y_val['text'])!=['Background'], ['Damaged'], ['Not damaged'])\n",
    "print('Binary texts: ', Counter(list(chain.from_iterable(y_val_binary_text))))"
   ]
  },
  {
   "cell_type": "code",
   "execution_count": 8,
   "id": "b58fd8e7",
   "metadata": {},
   "outputs": [],
   "source": [
    "n_est = 50\n",
    "max_d = None\n",
    "min_s_s = 2\n",
    "min_s_l = 1"
   ]
  },
  {
   "cell_type": "code",
   "execution_count": 9,
   "id": "35351d35",
   "metadata": {},
   "outputs": [],
   "source": [
    "# Create an instance of the RandomForestClassifier\n",
    "clf = RandomForestClassifier(\n",
    "    n_estimators=n_est,\n",
    "    max_depth=max_d,\n",
    "    min_samples_split=min_s_s,\n",
    "    min_samples_leaf=min_s_l)"
   ]
  },
  {
   "cell_type": "code",
   "execution_count": 11,
   "id": "fddad3bb",
   "metadata": {},
   "outputs": [
    {
     "name": "stderr",
     "output_type": "stream",
     "text": [
      "\u001b[34m\u001b[1mwandb\u001b[0m: Currently logged in as: \u001b[33mmark-eszaros\u001b[0m. Use \u001b[1m`wandb login --relogin`\u001b[0m to force relogin\n"
     ]
    },
    {
     "data": {
      "text/html": [
       "Tracking run with wandb version 0.13.6"
      ],
      "text/plain": [
       "<IPython.core.display.HTML object>"
      ]
     },
     "metadata": {},
     "output_type": "display_data"
    },
    {
     "data": {
      "text/html": [
       "Run data is saved locally in <code>D:\\Kurs 3 - AI-ML-principer för datadrivna organisationer\\Inlämning1\\wandb\\run-20221214_171047-1ac224kf</code>"
      ],
      "text/plain": [
       "<IPython.core.display.HTML object>"
      ]
     },
     "metadata": {},
     "output_type": "display_data"
    },
    {
     "data": {
      "text/html": [
       "Syncing run <strong><a href=\"https://wandb.ai/mark-eszaros/inlamning1TEST/runs/1ac224kf\" target=\"_blank\">preprocessing 2022-12-14 17:10:42</a></strong> to <a href=\"https://wandb.ai/mark-eszaros/inlamning1TEST\" target=\"_blank\">Weights & Biases</a> (<a href=\"https://wandb.me/run\" target=\"_blank\">docs</a>)<br/>"
      ],
      "text/plain": [
       "<IPython.core.display.HTML object>"
      ]
     },
     "metadata": {},
     "output_type": "display_data"
    },
    {
     "name": "stderr",
     "output_type": "stream",
     "text": [
      "C:\\Users\\marke\\anaconda3\\lib\\site-packages\\sklearn\\model_selection\\_validation.py:686: DataConversionWarning: A column-vector y was passed when a 1d array was expected. Please change the shape of y to (n_samples,), for example using ravel().\n",
      "  estimator.fit(X_train, y_train, **fit_params)\n",
      "C:\\Users\\marke\\anaconda3\\lib\\site-packages\\sklearn\\model_selection\\_validation.py:686: DataConversionWarning: A column-vector y was passed when a 1d array was expected. Please change the shape of y to (n_samples,), for example using ravel().\n",
      "  estimator.fit(X_train, y_train, **fit_params)\n",
      "C:\\Users\\marke\\AppData\\Local\\Temp\\ipykernel_22660\\2794253667.py:17: DataConversionWarning: A column-vector y was passed when a 1d array was expected. Please change the shape of y to (n_samples,), for example using ravel().\n",
      "  clf.fit(X_train, y_train_binary_value)\n",
      "\u001b[34m\u001b[1mwandb\u001b[0m: \u001b[33mWARNING\u001b[0m wandb.plots.* functions are deprecated and will be removed in a future release. Please use wandb.plot.* instead.\n"
     ]
    },
    {
     "name": "stdout",
     "output_type": "stream",
     "text": [
      "              precision    recall  f1-score   support\n",
      "\n",
      "           0       0.67      0.60      0.63       155\n",
      "           1       0.25      0.81      0.39       149\n",
      "           2       0.00      0.00      0.00       124\n",
      "           3       0.00      0.00      0.00       112\n",
      "           4       0.00      0.00      0.00        34\n",
      "           5       0.00      0.00      0.00        42\n",
      "\n",
      "    accuracy                           0.35       616\n",
      "   macro avg       0.15      0.24      0.17       616\n",
      "weighted avg       0.23      0.35      0.25       616\n",
      "\n",
      "202.35309982299805 seconds\n"
     ]
    },
    {
     "name": "stderr",
     "output_type": "stream",
     "text": [
      "C:\\Users\\marke\\anaconda3\\lib\\site-packages\\sklearn\\metrics\\_classification.py:1327: UndefinedMetricWarning: Precision and F-score are ill-defined and being set to 0.0 in labels with no predicted samples. Use `zero_division` parameter to control this behavior.\n",
      "  _warn_prf(average, modifier, msg_start, len(result))\n",
      "C:\\Users\\marke\\anaconda3\\lib\\site-packages\\sklearn\\metrics\\_classification.py:1327: UndefinedMetricWarning: Precision and F-score are ill-defined and being set to 0.0 in labels with no predicted samples. Use `zero_division` parameter to control this behavior.\n",
      "  _warn_prf(average, modifier, msg_start, len(result))\n",
      "C:\\Users\\marke\\anaconda3\\lib\\site-packages\\sklearn\\metrics\\_classification.py:1327: UndefinedMetricWarning: Precision and F-score are ill-defined and being set to 0.0 in labels with no predicted samples. Use `zero_division` parameter to control this behavior.\n",
      "  _warn_prf(average, modifier, msg_start, len(result))\n"
     ]
    },
    {
     "data": {
      "text/html": [
       "Waiting for W&B process to finish... <strong style=\"color:green\">(success).</strong>"
      ],
      "text/plain": [
       "<IPython.core.display.HTML object>"
      ]
     },
     "metadata": {},
     "output_type": "display_data"
    },
    {
     "data": {
      "text/html": [
       "<style>\n",
       "    table.wandb td:nth-child(1) { padding: 0 10px; text-align: left ; width: auto;} td:nth-child(2) {text-align: left ; width: 100%}\n",
       "    .wandb-row { display: flex; flex-direction: row; flex-wrap: wrap; justify-content: flex-start; width: 100% }\n",
       "    .wandb-col { display: flex; flex-direction: column; flex-basis: 100%; flex: 1; padding: 10px; }\n",
       "    </style>\n",
       "<div class=\"wandb-row\"><div class=\"wandb-col\"><h3>Run history:</h3><br/><table class=\"wandb\"><tr><td>cross_val_score</td><td>▁█</td></tr></table><br/></div><div class=\"wandb-col\"><h3>Run summary:</h3><br/><table class=\"wandb\"><tr><td>cross_val_score</td><td>0.69969</td></tr></table><br/></div></div>"
      ],
      "text/plain": [
       "<IPython.core.display.HTML object>"
      ]
     },
     "metadata": {},
     "output_type": "display_data"
    },
    {
     "data": {
      "text/html": [
       "Synced <strong style=\"color:#cdcd00\">preprocessing 2022-12-14 17:10:42</strong>: <a href=\"https://wandb.ai/mark-eszaros/inlamning1TEST/runs/1ac224kf\" target=\"_blank\">https://wandb.ai/mark-eszaros/inlamning1TEST/runs/1ac224kf</a><br/>Synced 6 W&B file(s), 4 media file(s), 4 artifact file(s) and 0 other file(s)"
      ],
      "text/plain": [
       "<IPython.core.display.HTML object>"
      ]
     },
     "metadata": {},
     "output_type": "display_data"
    },
    {
     "data": {
      "text/html": [
       "Find logs at: <code>.\\wandb\\run-20221214_171047-1ac224kf\\logs</code>"
      ],
      "text/plain": [
       "<IPython.core.display.HTML object>"
      ]
     },
     "metadata": {},
     "output_type": "display_data"
    }
   ],
   "source": [
    "date_and_time = datetime.now().strftime(\"%Y-%m-%d %H:%M:%S\")\n",
    "wandb.init(project=\"inlamning1V1\", name=f\"preprocessing {date_and_time}\", config = {\n",
    "    \"training_type\": 'Random Forest',\n",
    "    'n_estimators': n_est,\n",
    "    'max_depth': max_d,\n",
    "    'min_samples_split': min_s_s,\n",
    "    'min_samples_leaf': min_s_l,\n",
    "    'scoring': 'accuracy'\n",
    "})\n",
    "\n",
    "# metrics = ['accuracy', 'balanced_accuracy', 'roc_auc', 'f1', 'neg_mean_absolute_error', 'neg_root_mean_squared_error', 'r2']\n",
    "\n",
    "start = time.time()\n",
    "\n",
    "scores = cross_val_score(clf, X_train, y_train_binary_text, cv=5, scoring='accuracy')\n",
    "\n",
    "clf.fit(X_train, y_train_binary_value)\n",
    "\n",
    "y_pred = clf.predict(X_val)\n",
    "y_probas = clf.predict_proba(X_val)\n",
    "labels = ['Not damaged', 'Damaged']\n",
    "\n",
    "# visualize model\n",
    "wandb.log({'roc': wandb.plots.ROC(y_val_binary_value, y_probas, labels)})\n",
    "wandb.log({'pr': wandb.plots.precision_recall(y_val_binary_value, y_probas, labels)})\n",
    "wandb.sklearn.plot_summary_metrics(clf, X_train, y_train_binary_value, X_val, y_val_binary_value)\n",
    "wandb.sklearn.plot_confusion_matrix(y_val_binary_value, y_pred, labels)\n",
    "\n",
    "print(sklearn.metrics.classification_report(y_val_binary_value, y_pred))\n",
    "print(time.time() - start, 'seconds')\n",
    "\n",
    "for score in scores:\n",
    "    wandb.log({'cross_val_score': score})\n",
    "    \n",
    "wandb.finish()"
   ]
  }
 ],
 "metadata": {
  "kernelspec": {
   "display_name": "Python 3 (ipykernel)",
   "language": "python",
   "name": "python3"
  },
  "language_info": {
   "codemirror_mode": {
    "name": "ipython",
    "version": 3
   },
   "file_extension": ".py",
   "mimetype": "text/x-python",
   "name": "python",
   "nbconvert_exporter": "python",
   "pygments_lexer": "ipython3",
   "version": "3.9.12"
  }
 },
 "nbformat": 4,
 "nbformat_minor": 5
}
